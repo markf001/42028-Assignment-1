{
 "cells": [
  {
   "cell_type": "markdown",
   "metadata": {},
   "source": [
    "Importing statements"
   ]
  },
  {
   "cell_type": "code",
   "execution_count": null,
   "metadata": {},
   "outputs": [],
   "source": [
    "import numpy as np \n",
    "import matplotlib.pyplot as plt\n",
    "%matplotlib inline\n",
    "import cv2\n",
    "import seaborn as sns\n",
    "import zipfile\n",
    "from skimage import feature\n",
    "\n",
    "from sklearn.model_selection import train_test_split\n",
    "from sklearn import metrics\n",
    "from sklearn import svm \n",
    "from sklearn import metrics"
   ]
  },
  {
   "cell_type": "code",
   "execution_count": 14,
   "metadata": {},
   "outputs": [
    {
     "name": "stdout",
     "output_type": "stream",
     "text": [
      "Unzip completed!\n"
     ]
    }
   ],
   "source": [
    "zip_path = \"dataset_42028assg1_24975094.zip\"\n",
    "extract_to = \"/Users/markfernandez/Desktop/42028 Assignment 1/dataset\"\n",
    "\n",
    "with zipfile.ZipFile(zip_path, \"r\") as zip_ref:\n",
    "    zip_ref.extractall(extract_to)\n",
    "\n",
    "print(\"Unzip completed!\")\n"
   ]
  },
  {
   "cell_type": "code",
   "execution_count": 15,
   "metadata": {},
   "outputs": [
    {
     "ename": "NameError",
     "evalue": "name 'load_mnist' is not defined",
     "output_type": "error",
     "traceback": [
      "\u001b[31m---------------------------------------------------------------------------\u001b[39m",
      "\u001b[31mNameError\u001b[39m                                 Traceback (most recent call last)",
      "\u001b[36mCell\u001b[39m\u001b[36m \u001b[39m\u001b[32mIn[15]\u001b[39m\u001b[32m, line 1\u001b[39m\n\u001b[32m----> \u001b[39m\u001b[32m1\u001b[39m X_train, y_train = \u001b[43mload_mnist\u001b[49m(\u001b[33m'\u001b[39m\u001b[33m/Users/markfernandez/Desktop/42028 Assignment 1/dataset\u001b[39m\u001b[33m'\u001b[39m, kind=\u001b[33m'\u001b[39m\u001b[33mtrain\u001b[39m\u001b[33m'\u001b[39m)\n\u001b[32m      2\u001b[39m X_test, y_test = load_mnist(\u001b[33m'\u001b[39m\u001b[33m/Users/markfernandez/Desktop/42028 Assignment 1/dataset\u001b[39m\u001b[33m'\u001b[39m, kind=\u001b[33m'\u001b[39m\u001b[33mt10k\u001b[39m\u001b[33m'\u001b[39m)\n\u001b[32m      4\u001b[39m labelNames = [\u001b[33m\"\u001b[39m\u001b[33m2\u001b[39m\u001b[33m\"\u001b[39m, \u001b[33m\"\u001b[39m\u001b[33m4\u001b[39m\u001b[33m\"\u001b[39m, \u001b[33m\"\u001b[39m\u001b[33m7\u001b[39m\u001b[33m\"\u001b[39m, \u001b[33m\"\u001b[39m\u001b[33malpha\u001b[39m\u001b[33m\"\u001b[39m, \u001b[33m\"\u001b[39m\u001b[33mbeta\u001b[39m\u001b[33m\"\u001b[39m,\n\u001b[32m      5\u001b[39m \t\u001b[33m\"\u001b[39m\u001b[33mlim\u001b[39m\u001b[33m\"\u001b[39m, \u001b[33m\"\u001b[39m\u001b[33mpi\u001b[39m\u001b[33m\"\u001b[39m, \u001b[33m\"\u001b[39m\u001b[33mpm\u001b[39m\u001b[33m\"\u001b[39m, \u001b[33m\"\u001b[39m\u001b[33mtheta\u001b[39m\u001b[33m\"\u001b[39m, \u001b[33m\"\u001b[39m\u001b[33mtimes\u001b[39m\u001b[33m\"\u001b[39m]\n",
      "\u001b[31mNameError\u001b[39m: name 'load_mnist' is not defined"
     ]
    }
   ],
   "source": [
    "X_train, y_train = load_mnist('/Users/markfernandez/Desktop/42028 Assignment 1/dataset', kind='train')\n",
    "X_test, y_test = load_mnist('/Users/markfernandez/Desktop/42028 Assignment 1/dataset', kind='t10k')\n",
    "\n",
    "labelNames = [\"2\", \"4\", \"7\", \"alpha\", \"beta\",\n",
    "\t\"lim\", \"pi\", \"pm\", \"theta\", \"times\"]"
   ]
  }
 ],
 "metadata": {
  "kernelspec": {
   "display_name": ".venv",
   "language": "python",
   "name": "python3"
  },
  "language_info": {
   "codemirror_mode": {
    "name": "ipython",
    "version": 3
   },
   "file_extension": ".py",
   "mimetype": "text/x-python",
   "name": "python",
   "nbconvert_exporter": "python",
   "pygments_lexer": "ipython3",
   "version": "3.11.4"
  }
 },
 "nbformat": 4,
 "nbformat_minor": 2
}
